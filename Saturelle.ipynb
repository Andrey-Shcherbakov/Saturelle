{
 "cells": [
  {
   "cell_type": "markdown",
   "metadata": {},
   "source": [
    "# Projet 13\n",
    "# Une histoire de sauterelle"
   ]
  },
  {
   "cell_type": "code",
   "execution_count": null,
   "metadata": {},
   "outputs": [],
   "source": []
  },
  {
   "cell_type": "markdown",
   "metadata": {},
   "source": [
    "## 1 Questions préliminaires"
   ]
  },
  {
   "cell_type": "markdown",
   "metadata": {},
   "source": [
    "### T1. \n",
    "Dénombrer le nombre de chemins possibles joignant l’origine O au point (p, q)."
   ]
  },
  {
   "cell_type": "markdown",
   "metadata": {},
   "source": [
    "#### Solution\n",
    "\n",
    "Compter le nombre de ces chemins est le même que compter le nombre de façons dont nous pouvons disposer $ q $ barres vers le haut $ \\uparrow $ et $ p $ barres vers la droite $ \\rightarrow $ en $ p + q $ places. \n",
    "\n",
    "Pour ça, il suffit choisir $ p $ places pour les barres les barres vers la droit, parce que les autres $ q $ places seront automatiquement pour les flèches vers le haut. \n",
    "\n",
    "Par conséquent, le nombre de chemins possibles est $ \\binom{p+q}{p} $"
   ]
  },
  {
   "cell_type": "markdown",
   "metadata": {},
   "source": [
    "### T2.\n",
    "\n",
    "Suppose que q > p. On cherche à dénombrer le nombre de chemins joignant l’origine au point\n",
    "(p, q) en restant toujours strictement au-dessus de la première bissectrice (sauf en l’origine bien sûr).\n",
    "Montrer que le nombre de chemins joignant (0, 1) au point (p, q) et coupant la première bissectrice est\n",
    "égal au nombre de chemins joignant (1, 0) au point (p, q)."
   ]
  },
  {
   "cell_type": "markdown",
   "metadata": {},
   "source": [
    "#### Solution\n",
    "\n",
    "Il y a une bijection entre les chemins au point (p, q) et coupant la première bissectrice et les chemins joignant (1, 0) au point (p, q).\n",
    "\n",
    "\n",
    "Pour chacun de ces chemins nous allons regarder leur représentation en flèches haut et bas.\n",
    "\n",
    "À ce point, le nombre de flèches vers le haut et vers le bas est le même.\n",
    "\n",
    "Si nous inversons les flèches jusqu'à ce point, c'est-à-dire que les flèches qui étaient vers le haut se transforment en flèches vers le bas et les flèches vers le bas se transforment en flèches vers le haut, nous aurons un chemin qui passe par (0,1).\n",
    "\n",
    "Lorsque le chemin passe par (1,0), la première flèche doit être vers le haut. Donc quand on inverse les flèches, ça devient une flèche vers le bas et ce chemin doit passer par (0,1).\n",
    "\n",
    "De cette façon, la fonction est bien définie.\n",
    "\n",
    "Voyons qu'il s'agit d'une fonction  surjective et injective.\n",
    "\n",
    "Pour chacun de ces chemins nous allons regarder leur représentation en flèches haut et bas.\n",
    "\n",
    "Regardons le point où les chemins passant par (1,0) coupent la bissectrice.\n",
    "\n",
    "À ce stade, le nombre de flèches vers le haut et vers le bas est le même.\n",
    "\n",
    "Si nous inversons les flèches jusqu'à ce point, c'est-à-dire que les flèches qui étaient vers le haut se transforment en flèches vers le bas et les flèches vers le bas se transforment en flèches vers le haut, nous aurons un chemin qui passe par (0,1).\n",
    "\n",
    "Lorsque le chemin passe par (1,0), la première flèche doit être vers le haut. Donc quand on inverse les flèches, ça devient une flèche vers le bas et ce chemin doit passer par (0,1).\n",
    "\n",
    "De cette façon, la fonction est bien définie.\n",
    "\n",
    "Voyons qu'il s'agit d'une fonction de surjection et d'injection.\n",
    "\n",
    "\n",
    "Soient A et B deux chemins qui ont la même image.\n",
    "\n",
    "Par construction, cette fonction est injective.\n",
    "\n",
    "Nous allons montrer qu'elle est surjective.\n",
    "\n",
    "Comme l'image est un chemin passant par (0,1) et q > p, ce chemin doit couper la bissectrice.\n",
    "\n",
    "Soit C le premier point avec cette propriété (hors origine). En C, le nombre de flèches vers le haut et de flèches latérales est le même. Nous les inversons, les flèches vers le haut deviennent des flèches vers la droite et les flèches vers la droite deviennent des flèches vers le haut. \n",
    "\n",
    "Lorsque le chemin passe par (1,0), la première flèche doit être vers le haut. Donc quand on inverse les flèches, ça devient une flèche vers le bas et ce chemin doit passer par (0,1).\n",
    "\n",
    "soit D ce chemin. Il passera par (0,1), il coupera la bissectrice et son image par cette fonction sera, trivialement, le chemin B.\n",
    "\n",
    "Ainsi, la fonction est injective et surjective. Elle est donc aussi bijective.\n",
    "\n",
    "De cette façon, nous aurons que le nombre le nombre de chemins joignant (0, 1) au point (p, q) et coupant la première bissectrice est égal au nombre de chemins joignant (1, 0) au point (p, q).\n",
    "\n",
    "En utilisant le résultat de l'exercice T1, on a que le nombre de chemins chemins joignant (1, 0) au point (p, q) sera $ \\binom{p+q-1}{p-1} $\n",
    "\n",
    "\n",
    "Et donc le nombre de chemins oignant (0, 1) au point (p, q) et coupant la première bissectrice est $ \\binom{p+q-1}{-1} $\n"
   ]
  },
  {
   "cell_type": "markdown",
   "metadata": {},
   "source": [
    "### T3\n",
    "On choisit au hasard (de façon équiprobable) un chemin joignant l’origine au point (p, q), calculer\n",
    "la probabilité que ce chemin ne coupe pas la première bissectrice (sauf en l’origine)."
   ]
  },
  {
   "cell_type": "markdown",
   "metadata": {},
   "source": [
    "#### Solution\n",
    "\n",
    "Soit $ A $ l'ensemble des chemins joignant l’origine au point (p, q) que ne coupe pas la première bissectrice (sauf en l’origine). \n",
    "\n",
    "\n",
    "Soient: \n",
    "\n",
    "$ s_{1} $ le nombre de chemins joignant l’origine au point $(p, q)$ passant par $(1,0)$ et ne coupant pas la bissectrice\n",
    "\n",
    "$ s_{2} $ le nombre de chemins joignant l’origine au point $(p, q)$ passant par $(1,0)$ et coupant la bissectrice\n",
    "\n",
    "$ s_{3} $ le nombre de chemins joignant l’origine au point $(p, q)$ passant par $(0,1)$\n",
    "\n",
    "Nous avons que $ s_{1} + s_{2} + s_{3} = \\binom{p+q}{p} $\n",
    "\n",
    "Comme nous venons de le prouver, $ s_{2} = s_{3} = \\binom{p+q-1}{p-1} $\n",
    "\n",
    "Donc:\n",
    "\n",
    "$ s_{1} = \\binom{p+q}{p} - 2 \\times \\binom{p+q-1}{p-1} $\n",
    "\n",
    "$ s_{1} = \\frac{p+q}{p} \\times \\binom{p+q-1}{p-1} - 2 \\times \\binom{p+q-1}{p-1} $\n",
    "\n",
    "$ s_{1} = \\frac{q-p}{p} \\times \\binom{p+q-1}{p-1} $\n",
    "\n",
    "Comme le nombre total de chemins est $ \\binom{p+q}{p} $, la probabilité recherchée est : \n",
    "\n",
    "$ P(A) = \\dfrac{ \\frac{q-p}{p} \\times \\binom{p+q-1}{p-1} }{ \\binom{p+q}{p} } = \\dfrac{ \\frac{q-p}{p} \\times \\binom{p+q-1}{p-1} }{ \\frac{p+q}{p} \\times \\binom{p+q-1}{p-1} } = \\dfrac{q-p}{p+q}  $ \n",
    "\n",
    "De cette façon, \n",
    "\n",
    "$ P(A) = \\dfrac{q-p}{p+q} $"
   ]
  },
  {
   "cell_type": "markdown",
   "metadata": {},
   "source": [
    "### T4\n",
    "\n",
    "On suppose maintenant que $q ≥ p$. On choisit au hasard (de façon équiprobable) un chemin joignant l’origine au point $(p, q)$. Calculer la probabilité que ce chemin ne traverse pas la première bissectrice."
   ]
  },
  {
   "cell_type": "markdown",
   "metadata": {},
   "source": [
    "#### Solution\n",
    "\n",
    "Soit $B$ l'ensemble de chemins joignant l’origine au point $(p, q)$ qui ne traversent pas la première bissectrice.\n",
    "\n",
    "\n",
    "S'il ne peut pas traverser la bissectrice, cela signifie qu'il ne peut pas toucher la ligne $x - y = - 1$, ce qui revient au même que de regarder l'exercice précédent, mais en partant de $(0,-1)$ et en allant jusqu'à $(p,q)$. \n",
    "\n",
    "Il ne peut pas toucher la bissectrice, sa première étape est une flèche vers le haut allant directement à $(0,0)$ et  son deuxième pas est aussi obligatoirement une flèche vers le haut allant directement à $(1,0)$ et donc on a le même cas que l'exercice précédent.\n",
    "\n",
    "C'est le même nombre de chemins partant de $(-1,0)$ et allant jusqu'à $(p,q)$ sans croiser la bissectrice.\n",
    "\n",
    "Par translation, c'est le même nombre de chemins partant de $(0,0)$ et allant jusqu'à $(p+1,q)$ sans croiser la bissectrice, et on sait que ce nombre est $ \\dfrac{q+1-p}{p} \\times \\dbinom{p+q}{p-1} $\n",
    "\n",
    "\n",
    "Comme le nombre total de chemins est $ \\binom{p+q}{p} $, la probabilité recherchée est : \n",
    "\n",
    "$ P(B) = \\dfrac{ \\dfrac{q+1-p}{p} \\times \\dbinom{p+q}{p-1} }{ \\dbinom{p+q}{p} } = \\dfrac{ \\dfrac{q+1-p}{p} \\times \\dfrac{(p+q)!}{(p-1)!(q+1)!}}{ \\dfrac{(p+q)!}{p!q!} } = \\dfrac{q+1-p}{q+1} = 1 - \\dfrac{1}{q+1} $\n",
    "\n",
    "De cette façon, \n",
    "\n",
    "$ P(B) = 1 -  \\dfrac{1}{q+1} $\n",
    "\n",
    "\n"
   ]
  },
  {
   "cell_type": "markdown",
   "metadata": {},
   "source": [
    "### S1. \n",
    "Écrire un programme qui prend en entrée un couple (p, q) avec p ≤ q et qui renvoie un tableau\n",
    "numpy de taille p+q qui code un chemin de (0, 0) à (p, q) uniforme parmi tous les chemins possibles. On\n",
    "pourra d’abord coder une fonction qui code (par convention) Nord=1 et Est=0 dans le tableau numpy.\n",
    "Indication: on pourra utiliser la méthode np.random.permutation pour générer une permutation\n",
    "aléatoire uniforme."
   ]
  },
  {
   "cell_type": "code",
   "execution_count": null,
   "metadata": {},
   "outputs": [],
   "source": []
  },
  {
   "cell_type": "markdown",
   "metadata": {},
   "source": [
    "### S2.\n",
    "Vérifier la validité du code précédent en écrivant un code Python qui affiche 5 chemins aléatoire\n",
    "de (0,0) à (p, q). On affichera un graphique pour (p = 10, q = 10), un autre pour (p = 100, q = 150) et un\n",
    "dernier pour (p = 1000, q = 1000). Que constatez-vous, pouvez-vous l’expliquer (informellement) ?"
   ]
  },
  {
   "cell_type": "code",
   "execution_count": null,
   "metadata": {},
   "outputs": [],
   "source": []
  },
  {
   "cell_type": "markdown",
   "metadata": {},
   "source": [
    "### S3.\n",
    "Implémenter une fonction qui prend en entrée un couple (p, q) avec p ≤ q et qui renvoie un\n",
    "chemin de (0,0) à (p, q) qui ne traverse pas la première bissectrice en utilisant la méthode du rejet\n",
    "(qui consiste à générer des chemins avec le code S1 et à conserver le premier qui ne traverse pas la\n",
    "première bissectrice). Justifier rapidement que cette algorithme de rejet renvoie bien un chemin qui suit\n",
    "la mesure uniforme sur les chemins qui ne traversent pas la première bissectrice."
   ]
  },
  {
   "cell_type": "code",
   "execution_count": null,
   "metadata": {},
   "outputs": [],
   "source": []
  },
  {
   "cell_type": "markdown",
   "metadata": {},
   "source": [
    "### S4.\n",
    "Reprendre la question S2 avec des chemins qui ne traversent pas la première bissectrice"
   ]
  },
  {
   "cell_type": "code",
   "execution_count": null,
   "metadata": {},
   "outputs": [],
   "source": []
  },
  {
   "cell_type": "markdown",
   "metadata": {},
   "source": [
    "### S5.\n",
    "Notons R le nombre de rejets réalisés lors de la génération d’un chemin qui ne traverse pas la\n",
    "première bissectrice selon l’algorithme implémenté en S3. D’après la question T4, quelle est la loi de\n",
    "R ? Vérifier numériquement ce résultat en générant un grand nombre de tels chemin et en affichant\n",
    "l’histogramme de la loi empirique de R que l’on superposera avec la loi théorique. On affichera les\n",
    "résultats pour (p = 10, q = 10) puis pour (p = 20, q = 40)."
   ]
  },
  {
   "cell_type": "code",
   "execution_count": null,
   "metadata": {},
   "outputs": [],
   "source": []
  },
  {
   "cell_type": "markdown",
   "metadata": {},
   "source": [
    "### 2 Déplacement de la sauterelle sur une ligne\n"
   ]
  },
  {
   "cell_type": "markdown",
   "metadata": {},
   "source": [
    "On peut reprendre les résultats de la partie précédente pour résoudre cette partie. On imagine une sauterelle, se déplaçant sur les entiers relatifs partant de l’origine et se déplaçant d’un pas à gauche ou à droite de façon équiprobable."
   ]
  },
  {
   "cell_type": "markdown",
   "metadata": {},
   "source": [
    "### T5 \n",
    "\n",
    "Quelle est la probabilité $ P_{n} $ que la sauterelle revienne à l’origine en $2n$ étapes ?"
   ]
  },
  {
   "cell_type": "markdown",
   "metadata": {},
   "source": [
    "#### Solution \n",
    "\n",
    "Soit D le nombre de pas vers la droite et $G$ le nombre de pas vers la gauche.\n",
    "\n",
    "Comme elle a fait $ 2n $ pas, nous avons que $ D + G = 2n $. \n",
    "\n",
    "Après ces $2n$ étapes, il se situera au point : $ D \\times (1,0) + G \\times (-1,0) = (D-G,0) $ \n",
    "\n",
    "Comme elle retourne à l'origine, nous avons que $ (D-G,0) = (0,0) $\n",
    "\n",
    "Nous avons que: \n",
    "$\n",
    "\\begin{cases}\n",
    "D + G =2n \\\\\n",
    "D - G =  0 \\\\\n",
    "\\end{cases}\n",
    "$\n",
    "\n",
    "Donc $ D = G = n $\n",
    "\n",
    "Avec le même raisonnement que dans les exercices précédents, on a que ce nombre de est  $\\binom{2n}{n}$\n",
    "\n",
    "De plus, le nombre total de chemins possibles avec 2n pas est $2^{2n} $ (2 possibilités pour chaque choix)\n",
    "\n",
    "De cette façon, la probabilité souhaitée est donc égale à $\\dfrac{\\binom{2n}{n}}{2^{2n}}$"
   ]
  },
  {
   "cell_type": "markdown",
   "metadata": {},
   "source": [
    "### T6\n",
    "\n",
    "En réinterprétant les chemins de l’exercice précédent, calculer la probabilité que la sauterelle revienne à l’origine pour la première fois en $2n$ étapes."
   ]
  },
  {
   "cell_type": "markdown",
   "metadata": {},
   "source": [
    "#### Solution \n",
    "\n",
    "Si la première marche est en haut, la dernière marche doit être à droite.\n",
    "\n",
    "Sinon, il se serait trouvé en (n, n-1) avant le dernier pas et il aurait franchi la diagonale à un instant antérieur.\n",
    "\n",
    "De cette façon, on veut partir de (1,0) et arriver à (n-1,n) en pouvant toucher la diagonale du carré qui est défini par ces deux points, mais qui ne le traverse pas.\n",
    "\n",
    "Et cela, nous l'avons déjà calculé dans un exercice précédent qui est $ \\dfrac{1}{n} \\times \\dbinom{2n-2}{n-1} $\n",
    "\n",
    "Comme le cas du premier pas à droite est analogue, on a que le nombre total est $ \\dfrac{2}{n} \\times \\dbinom{2n-2}{n-1} $\n",
    "\n",
    "De cette façon, la probabilité recherchée est $ \\dfrac{ \\dfrac{2}{n} \\times \\dbinom{2n-2}{n-1} }{2^{2n}}$"
   ]
  },
  {
   "cell_type": "markdown",
   "metadata": {},
   "source": [
    "### T8 \n",
    "Déterminer un équivalent de $ P_{n} = P(S_{2n} = 0) $ lorsque $n$ tend vers $ + \\infty$ et étudier la nature de la série $ \\sum_{n=0}^{\\infty} P_{n} $.\n"
   ]
  },
  {
   "cell_type": "markdown",
   "metadata": {},
   "source": [
    "#### Solution\n",
    "\n",
    "Par le **T5**, nous avons que $ P_{n} = P(S_{2n}=0) = \\dfrac{\\binom{2n}{n}}{2^{2n}} = \\dfrac{ \\frac{(2n)!}{(n!)^{2}}  }{2^{2n}} $\n",
    "\n",
    "Par Formule de Stirling, quand $n$ tend vers $ + \\infty $ nous avons que :\n",
    "\n",
    "$ P_{n} \\sim \\dfrac{ {\\sqrt{4 \\pi n} \\times \\biggl( \\dfrac{2n}{e} \\biggl) ^{2n}} }{      \\biggl(   {\\sqrt{2 \\pi n} \\times \\biggl( \\dfrac{n}{e} \\biggl) ^{n} \\biggl)^{2}  }  } \\sim \\dfrac{1}{\\sqrt{2 \\pi n}} $\n",
    "\n",
    "\n",
    "Comme la série $  \\sum_{n=1}^{\\infty} \\dfrac{1}{\\sqrt{n}}  $ diverge, nous avons que la série $ \\sum_{n=0}^{\\infty} P_{n} $  diverge également.\n",
    "\n"
   ]
  },
  {
   "cell_type": "markdown",
   "metadata": {},
   "source": [
    "### T9\n",
    "Montrer que la probabilité pour que la sauterelle ne passe qu’un nombre fini de fois par l’origine est donnée par la somme"
   ]
  },
  {
   "cell_type": "markdown",
   "metadata": {},
   "source": [
    "#### Solution \n",
    "\n",
    "Soit $A$ le événement dans lequel la sauterelle ne passe qu’un nombre fini de fois par l’origine.\n",
    "\n",
    "Soit $B_{n}$ les événements dans lesquels la sauterelle passe en dernier par l'origine à l'étape 2n.\n",
    "\n",
    "Nous avons que $ A = \\bigcup_{n=0}^{n=+\\infty} B_{n} $ et $ B_{i} \\cap B_{j} = \t\\emptyset $ for tout $i$ et $j$ distincts\n",
    "\n",
    "De cette façon, nous avons que\n",
    "\n",
    "$ P(A) = \\sum_{n=0}^{+\\infty} P(B_{n}) = \\sum_{n=0}^{+\\infty} P \\bigl( S_{2n}=0$  et  $ \\bigl( \\forall i \\geq 2n+1,  \\sum_{k=2n+1}^{i}X_{k} \\neq 0 $  $  \\bigl) \\bigl)$ \n",
    "\n"
   ]
  },
  {
   "cell_type": "markdown",
   "metadata": {},
   "source": [
    "### T10 \n",
    "Calculer pour tout n ∈ N\n",
    "\n",
    "et en déduire que la sauterelle retourne presque sûrement une infinité de fois à l’origine."
   ]
  },
  {
   "cell_type": "markdown",
   "metadata": {},
   "source": [
    "#### Solution\n",
    "\n",
    "Par le **T7**, nous avons $P \\bigl( S_{2n}=0$  et  $ \\bigl( \\forall i \\geq 2n+1,  \\sum_{k=2n+1}^{i}X_{k} \\neq 0 $  $  \\bigl) \\bigl) $ne dépend pas de $n$.\n",
    "\n",
    "Comme c'est une probabilité, c'est un réel appartenant à $[0,1]$. Soit $p$ ce nombre.\n",
    "\n",
    "Nous allons continuer à développer la somme de la question précédente.\n",
    "\n",
    "$ P(A) = \\sum_{n=0}^{+\\infty} P(B_{n}) = \\sum_{n=0}^{+\\infty} P \\bigl( S_{2n}=0$  et  $ \\bigl( \\forall i \\geq 2n+1,  \\sum_{k=2n+1}^{i}X_{k} \\neq 0 $  $  \\bigl) \\bigl)$ \n",
    "\n",
    "Pour l'indépendance des événements, \n",
    "\n",
    "$ P(A) = \\sum_{n=0}^{+\\infty} P \\bigl( S_{2n}=0)  \\times P \\bigl( \\forall i \\geq 2n+1,  \\sum_{k=2n+1}^{i}X_{k} \\neq 0 $  $  \\bigl) \\bigl)$ \n",
    "\n",
    "$= \\sum_{n=0}^{+\\infty} P \\bigl( S_{2n}=0)  \\times p $ \n",
    "\n",
    "Donc, \n",
    "\n",
    "$ P(A) = \\sum_{n=0}^{+\\infty} P \\bigl( S_{2n}=0)  \\times p $\n",
    "\n",
    "Commo nous savons que $ \\sum_{n=0}^{+\\infty} P \\bigl( S_{2n}=0) $ diverge et $ P(A) \\in [0,1] $, il faut que $p$ soit zéro.\n",
    "\n",
    "De cette façon, \n",
    "\n",
    "$P \\bigl( \\forall i \\geq 2n+1,  \\sum_{k=2n+1}^{i}X_{k} \\neq 0 $  $  \\bigl) = 0 $ \n",
    "\n",
    "et \n",
    "\n",
    "$P(A) = 0$\n",
    "\n",
    "\n",
    "\n"
   ]
  },
  {
   "cell_type": "markdown",
   "metadata": {},
   "source": [
    "### T11"
   ]
  },
  {
   "cell_type": "markdown",
   "metadata": {},
   "source": [
    "#### Solution\n",
    "\n",
    "Soit $ c_{n} = \\dfrac{1}{2^{2n-1}}  \\dfrac{1}{2n-1}  \\dbinom{2n-1}{n-1}$ \n",
    "\n",
    "Tout d'abord, \n",
    "\n",
    "$ c_{n} = \\dfrac{1}{2^{2n-1}}  \\dfrac{1}{2n-1}  \\dbinom{2n-1}{n} = \\dfrac{1}{2^{2n-1}}  \\dfrac{1}{2n-1}  \\dbinom{2n-1}{n} = \\dfrac{ \\dfrac{2}{n} \\dbinom{2n-2}{n-1} } {2^{2n}} $\n",
    "\n",
    "Par **T6**, $c_{n}$ est la probabilité que la sauterelle revienne à l’origine pour la première fois en  $2n$  étapes.\n",
    "\n",
    "\n",
    "Soient $C_{n}$ les les événements que la sauterelle revienne à l’origine pour la première fois en  $2n$  étapes, $C$ les événements que la sauterelle revienne à l’origine et $c = P(C)$.\n",
    "\n",
    "Nous avons que $ C = \\bigcup_{n=0}^{n=+\\infty} C_{n} $ et $ C_{i} \\cap C_{j} = \t\\emptyset $ for tout $i$ et $j$ distincts.\n",
    "\n",
    "Donc, \n",
    "\n",
    "$ P(C) = \\sum_{n=1}^{+\\infty} P(C_{n}) = \\sum_{n=1}^{+\\infty} P(C_{n}) = \\sum_{n=1}^{+\\infty} c_{n} = \\sum_{n=1}^{+\\infty} \\dfrac{1}{2^{2n-1}}  \\dfrac{1}{2n-1}  \\dbinom{2n-1}{n-1} $ \n",
    "\n",
    "De cette façon,\n",
    "\n",
    "$ P(C) = \\sum_{n=1}^{+\\infty} \\dfrac{1}{2^{2n-1}}  \\dfrac{1}{2n-1}  \\dbinom{2n-1}{n-1} $\n",
    "\n",
    "\n",
    "\n",
    "Par le **T10**, nous avons que $P(A) = 0$, où $A$ sont les événements qui passent par l'origine un nombre fini de fois.\n",
    "\n",
    "Soit $D$ le complémentaire de $A$, c'est-à-dire les événements qui passent un nombre infini de fois par l'origine.\n",
    "\n",
    "Nous avons que $P(D) = 1 - P(A) = 1 $\n",
    "\n",
    "Par ailleurs, nous avons que $ D \\subset C $ e donc $ P(D) \\leq P(C) $\n",
    "\n",
    "Comme $P(D) \\in [0,1]$ et $P(D) = 1$, on a que $P(C) = 1$\n",
    "\n",
    "De cette façon, \n",
    "\n",
    "$ \\sum_{n=1}^{+\\infty} \\dfrac{1}{2^{2n-1}}  \\dfrac{1}{2n-1}  \\dbinom{2n-1}{n-1} = 1 $"
   ]
  },
  {
   "cell_type": "code",
   "execution_count": null,
   "metadata": {},
   "outputs": [],
   "source": []
  },
  {
   "cell_type": "code",
   "execution_count": null,
   "metadata": {},
   "outputs": [],
   "source": []
  }
 ],
 "metadata": {
  "kernelspec": {
   "display_name": "Python 3 (ipykernel)",
   "language": "python",
   "name": "python3"
  },
  "language_info": {
   "codemirror_mode": {
    "name": "ipython",
    "version": 3
   },
   "file_extension": ".py",
   "mimetype": "text/x-python",
   "name": "python",
   "nbconvert_exporter": "python",
   "pygments_lexer": "ipython3",
   "version": "3.9.7"
  }
 },
 "nbformat": 4,
 "nbformat_minor": 4
}
