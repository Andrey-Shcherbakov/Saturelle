{
 "cells": [
  {
   "cell_type": "markdown",
   "metadata": {},
   "source": [
    "# Projet 13\n",
    "# Une histoire de sauterelle"
   ]
  },
  {
   "cell_type": "code",
   "execution_count": null,
   "metadata": {},
   "outputs": [],
   "source": []
  },
  {
   "cell_type": "markdown",
   "metadata": {},
   "source": [
    "## 1 Questions préliminaires"
   ]
  },
  {
   "cell_type": "markdown",
   "metadata": {},
   "source": [
    "### T1. \n",
    "Dénombrer le nombre de chemins possibles joignant l’origine O au point (p, q)."
   ]
  },
  {
   "cell_type": "markdown",
   "metadata": {},
   "source": [
    "#### Solution\n",
    "\n",
    "Compter le nombre de ces chemins est le même que compter le nombre de façons dont nous pouvons disposer $ q $ barres vers le haut $ \\uparrow $ et $ p $ barres vers la droite $ \\rightarrow $ en $ p + q $ places. \n",
    "\n",
    "Pour ça, il suffit choisir $ p $ places pour les barres les barres vers la droit, parce que les autres $ q $ places seront automatiquement pour les flèches vers le haut. \n",
    "\n",
    "Par conséquent, le nombre de chemins possibles est $ \\binom{p+q}{p} $"
   ]
  },
  {
   "cell_type": "markdown",
   "metadata": {},
   "source": [
    "### T2.\n",
    "\n",
    "Suppose que $q > p$. On cherche à dénombrer le nombre de chemins joignant l’origine au point\n",
    "$(p, q)$ en restant toujours strictement au-dessus de la première bissectrice (sauf en l’origine bien sûr).\n",
    "Montrer que le nombre de chemins joignant $(0, 1)$ au point $(p, q)$ et coupant la première bissectrice est\n",
    "égal au nombre de chemins joignant $(1, 0)$ au point $(p, q)$."
   ]
  },
  {
   "cell_type": "markdown",
   "metadata": {},
   "source": [
    "#### Solution\n",
    "\n",
    "Je vais montrer que il y a une bijection entre les chemins au point $(p, q)$ coupant la première bissectrice et les chemins joignant (1, 0) au point (p, q).\n",
    "\n",
    "Pour ça, nous allons regarder leur représentation en flèches vers le haut $ \\uparrow $ et vers la droite $ \\rightarrow $.\n",
    "\n",
    "Soit $R$ le ensemble des chemins joignant $(0, 1)$ au point $(p, q)$ coupant la première bissectrice.\n",
    "\n",
    "Soit $S$ le ensemble des chemins joignant $(1, 0)$ au point $(p, q)$.\n",
    "\n",
    "Soit $ f:R \\rightarrow S $ tq $ r \\in R $ nous definissons $f(r)$ comme:\n",
    "\n",
    "On regarde la représentation en flèches vers le haut $ \\uparrow $ et vers la droite $ \\rightarrow $ du chemin $r$.\n",
    "\n",
    "Soit $M$ le primière point (différent de l'origine) en que le chemin $r$ coupe la bissectrice.\n",
    "\n",
    "À ce point, le nombre de flèches vers le haut et vers la droite est le même.\n",
    "\n",
    "f(r) sera le même chemin $r$ mais invertant les flèches jusqu'à ce point $M$, c'est-à-dire que les flèches qui étaient vers le haut jusqu'à $M$ se transforment en flèches vers la droite et les flèches vers la droite jusqu'à $M$ se transforment en flèches vers le haut. \n",
    "\n",
    "Comme ce chemin passe par $(0,1)$, la primière fhèche est vers le haut $\\uparrow$. Donc quand on inverse les flèches, ça devient une flèche vers la droite $\\rightarrow$ et donc ce chemin passera par $(0,1)$.\n",
    "\n",
    "De cette façon, la fonction est bien définie.\n",
    "\n",
    "Par construction, cette fonction est injective.\n",
    "\n",
    "Voyons que ce fonction s'agit d'une fonction surjective.\n",
    "\n",
    "Nous allons montrer qu'elle est surjective.\n",
    "\n",
    "Soit $s \\in S$ et on regarde la représentation en flèches vers le haut $ \\uparrow $ et vers la droite $ \\rightarrow $ du chemin $s$.\n",
    "\n",
    "Comme l'image est un chemin passant par $(0,1)$ et $q > p$, ce chemin doit couper la bissectrice.\n",
    "\n",
    "Soit $N$ le premier point avec cette propriété (différent de l'origine). En $N$, le nombre de flèches vers le haut et de flèches vers la droite sont le même. \n",
    "\n",
    "Nous allons regarder le chemin $r_{2}$ tel que on inverte les flèches du chemin \"s\" jusqu'à $N$, c'est-à-dire que les flèches qui étaient vers le haut jusqu'à $N$ se transforment en flèches vers la droite et les flèches vers la droite jusqu'à $N$ se transforment en flèches vers le haut. \n",
    "\n",
    "Lorsque le chemin passe par $(0,1)$, la première flèche doit être vers la droite. Donc quand nous inversons les flèches, ça devient une flèche vers le haut et ce nouveau chemin $r_{2}$ doit passer par $(1,0)$. De plus, il passera par N et donc il coupera la bissectrice.\n",
    "\n",
    "Si nous faisons $f(r_{2})$  nous aurons que  $f(r_{2}) = s $ e donc la fonction est surjective. \n",
    "\n",
    "De cette façon, nous avons que $f$ est injective et surjective et donc  Comme $R$ et $S$ sont fini, nous avons que $R$ et $S$ ont le même nombre de éléments.     \n",
    "\n",
    "Donc, le nombre le nombre de chemins joignant (0, 1) au point (p, q) et coupant la première bissectrice est égal au nombre de chemins joignant (1, 0) au point (p, q).\n",
    "\n",
    "En utilisant le le même raisonnement du exercice $T1$, on a que le nombre de chemins chemins joignant $(1, 0)$ au point $(p, q)$ est $ \\binom{p+q-1}{p-1} $\n",
    "\n",
    "\n",
    "De cette façon, le nombre de chemins joignant $(0, 1)$ au point $(p, q)$ et coupant la première bissectrice est $\\binom{p+q-1}{p-1}$\n"
   ]
  },
  {
   "cell_type": "markdown",
   "metadata": {},
   "source": [
    "### T3\n",
    "On choisit au hasard (de façon équiprobable) un chemin joignant l’origine au point (p, q), calculer\n",
    "la probabilité que ce chemin ne coupe pas la première bissectrice (sauf en l’origine)."
   ]
  },
  {
   "cell_type": "markdown",
   "metadata": {},
   "source": [
    "#### Solution\n",
    "\n",
    "Soit $ A $ l'ensemble des chemins joignant l’origine au point $(p, q)$ que ne coupe pas la première bissectrice (sauf en l’origine). \n",
    "\n",
    "\n",
    "Soient: \n",
    "\n",
    "$ s $ le nombre de chemins joignant l’origine au point $(p, q)$\n",
    "\n",
    "$ s_{1} $ le nombre de chemins joignant l’origine au point $(p, q)$ passant par $(1,0)$ et ne coupant pas la bissectrice\n",
    "\n",
    "$ s_{2} $ le nombre de chemins joignant l’origine au point $(p, q)$ passant par $(1,0)$ et coupant la bissectrice\n",
    "\n",
    "$ s_{3} $ le nombre de chemins joignant l’origine au point $(p, q)$ passant par $(0,1)$\n",
    "\n",
    "Nous avons que $ s_{1} + s_{2} + s_{3} = s $ et donc que $ s_{1} + s_{2}+s_{3} = \\binom{p+q}{p} $\n",
    "\n",
    "Comme nous venons de le prouver, $ s_{2} = s_{3} = \\binom{p+q-1}{p-1} $\n",
    "\n",
    "Donc:\n",
    "\n",
    "$ s_{1} = \\binom{p+q}{p} - 2 \\times \\binom{p+q-1}{p-1} $\n",
    "\n",
    "$ s_{1} = \\frac{p+q}{p} \\times \\binom{p+q-1}{p-1} - 2 \\times \\binom{p+q-1}{p-1} $\n",
    "\n",
    "$ s_{1} = \\frac{q-p}{p} \\times \\binom{p+q-1}{p-1} $\n",
    "\n",
    "Comme le nombre total de chemins est $ \\binom{p+q}{p} $, la probabilité recherchée est : \n",
    "\n",
    "$ P(A) = \\dfrac{ \\frac{q-p}{p} \\times \\binom{p+q-1}{p-1} }{ \\binom{p+q}{p} } = \\dfrac{ \\frac{q-p}{p} \\times \\binom{p+q-1}{p-1} }{ \\frac{p+q}{p} \\times \\binom{p+q-1}{p-1} } = \\dfrac{q-p}{p+q}  $ \n",
    "\n",
    "De cette façon, \n",
    "\n",
    "$ P(A) = \\dfrac{q-p}{p+q} $"
   ]
  },
  {
   "cell_type": "markdown",
   "metadata": {},
   "source": [
    "### T4\n",
    "\n",
    "On suppose maintenant que $q ≥ p$. On choisit au hasard (de façon équiprobable) un chemin joignant l’origine au point $(p, q)$. Calculer la probabilité que ce chemin ne traverse pas la première bissectrice."
   ]
  },
  {
   "cell_type": "markdown",
   "metadata": {},
   "source": [
    "#### Solution\n",
    "\n",
    "Soit $B$ l'ensemble de chemins joignant l’origine au point $(p, q)$ qui ne traversent pas la première bissectrice.\n",
    "\n",
    "\n",
    "S'il ne peut pas traverser la bissectrice, cela signifie qu'il ne peut pas toucher la ligne $x - y = - 1$, ce qui revient au même que de regarder l'exercice précédent, mais en partant de $(0,-1)$ et en allant jusqu'à $(p,q)$. \n",
    "\n",
    "Il ne peut pas toucher la bissectrice, sa première étape est une flèche vers le haut allant directement à $(0,0)$ et  son deuxième pas est aussi obligatoirement une flèche vers le haut allant directement à $(1,0)$ et donc on a le même cas que l'exercice précédent.\n",
    "\n",
    "C'est le même nombre de chemins partant de $(-1,0)$ et allant jusqu'à $(p,q)$ sans croiser la bissectrice.\n",
    "\n",
    "Par translation, c'est le même nombre de chemins partant de $(0,0)$ et allant jusqu'à $(p+1,q)$ sans croiser la bissectrice, et on sait que ce nombre est $ \\dfrac{q+1-p}{p} \\times \\dbinom{p+q}{p-1} $\n",
    "\n",
    "\n",
    "Comme le nombre total de chemins est $ \\binom{p+q}{p} $, la probabilité recherchée est : \n",
    "\n",
    "$ P(B) = \\dfrac{ \\dfrac{q+1-p}{p} \\times \\dbinom{p+q}{p-1} }{ \\dbinom{p+q}{p} } = \\dfrac{ \\dfrac{q+1-p}{p} \\times \\dfrac{(p+q)!}{(p-1)!(q+1)!}}{ \\dfrac{(p+q)!}{p!q!} } = \\dfrac{q+1-p}{q+1}  $\n",
    "\n",
    "De cette façon, \n",
    "\n",
    "$ P(B) = \\dfrac{q+1-p}{q+1} $\n",
    "\n",
    "\n"
   ]
  },
  {
   "cell_type": "markdown",
   "metadata": {},
   "source": [
    "### S1. \n",
    "Écrire un programme qui prend en entrée un couple (p, q) avec p ≤ q et qui renvoie un tableau\n",
    "numpy de taille p+q qui code un chemin de (0, 0) à (p, q) uniforme parmi tous les chemins possibles. On\n",
    "pourra d’abord coder une fonction qui code (par convention) Nord=1 et Est=0 dans le tableau numpy.\n",
    "Indication: on pourra utiliser la méthode np.random.permutation pour générer une permutation\n",
    "aléatoire uniforme."
   ]
  },
  {
   "cell_type": "code",
   "execution_count": null,
   "metadata": {},
   "outputs": [],
   "source": []
  },
  {
   "cell_type": "markdown",
   "metadata": {},
   "source": [
    "### S2.\n",
    "Vérifier la validité du code précédent en écrivant un code Python qui affiche 5 chemins aléatoire\n",
    "de (0,0) à (p, q). On affichera un graphique pour (p = 10, q = 10), un autre pour (p = 100, q = 150) et un\n",
    "dernier pour (p = 1000, q = 1000). Que constatez-vous, pouvez-vous l’expliquer (informellement) ?"
   ]
  },
  {
   "cell_type": "code",
   "execution_count": null,
   "metadata": {},
   "outputs": [],
   "source": []
  },
  {
   "cell_type": "markdown",
   "metadata": {},
   "source": [
    "### S3.\n",
    "Implémenter une fonction qui prend en entrée un couple (p, q) avec p ≤ q et qui renvoie un\n",
    "chemin de (0,0) à (p, q) qui ne traverse pas la première bissectrice en utilisant la méthode du rejet\n",
    "(qui consiste à générer des chemins avec le code S1 et à conserver le premier qui ne traverse pas la\n",
    "première bissectrice). Justifier rapidement que cette algorithme de rejet renvoie bien un chemin qui suit\n",
    "la mesure uniforme sur les chemins qui ne traversent pas la première bissectrice."
   ]
  },
  {
   "cell_type": "code",
   "execution_count": null,
   "metadata": {},
   "outputs": [],
   "source": []
  },
  {
   "cell_type": "markdown",
   "metadata": {},
   "source": [
    "### S4.\n",
    "Reprendre la question S2 avec des chemins qui ne traversent pas la première bissectrice"
   ]
  },
  {
   "cell_type": "code",
   "execution_count": null,
   "metadata": {},
   "outputs": [],
   "source": []
  },
  {
   "cell_type": "markdown",
   "metadata": {},
   "source": [
    "### S5.\n",
    "Notons R le nombre de rejets réalisés lors de la génération d’un chemin qui ne traverse pas la\n",
    "première bissectrice selon l’algorithme implémenté en S3. D’après la question T4, quelle est la loi de\n",
    "R ? Vérifier numériquement ce résultat en générant un grand nombre de tels chemin et en affichant\n",
    "l’histogramme de la loi empirique de R que l’on superposera avec la loi théorique. On affichera les\n",
    "résultats pour (p = 10, q = 10) puis pour (p = 20, q = 40)."
   ]
  },
  {
   "cell_type": "code",
   "execution_count": null,
   "metadata": {},
   "outputs": [],
   "source": []
  },
  {
   "cell_type": "markdown",
   "metadata": {},
   "source": [
    "### 2 Déplacement de la sauterelle sur une ligne\n"
   ]
  },
  {
   "cell_type": "markdown",
   "metadata": {},
   "source": [
    "On peut reprendre les résultats de la partie précédente pour résoudre cette partie. On imagine une sauterelle, se déplaçant sur les entiers relatifs partant de l’origine et se déplaçant d’un pas à gauche ou à droite de façon équiprobable."
   ]
  },
  {
   "cell_type": "markdown",
   "metadata": {},
   "source": [
    "### T5 \n",
    "\n",
    "Quelle est la probabilité $ P_{n} $ que la sauterelle revienne à l’origine en $2n$ étapes ?"
   ]
  },
  {
   "cell_type": "markdown",
   "metadata": {},
   "source": [
    "#### Solution \n",
    "\n",
    "Soit D le nombre de pas vers la droite et $G$ le nombre de pas vers la gauche.\n",
    "\n",
    "Comme elle a fait $ 2n $ pas, nous avons que $ D + G = 2n $. \n",
    "\n",
    "Après ces $2n$ étapes, il se situera au point : $ D \\times (1,0) + G \\times (-1,0) = (D-G,0) $ \n",
    "\n",
    "Comme elle retourne à l'origine, nous avons que $ (D-G,0) = (0,0) $\n",
    "\n",
    "Nous avons que: \n",
    "$\n",
    "\\begin{cases}\n",
    "D + G =2n \\\\\n",
    "D - G =  0 \\\\\n",
    "\\end{cases}\n",
    "$\n",
    "\n",
    "Donc $ D = G = n $\n",
    "\n",
    "Avec le même raisonnement que dans les exercices précédents, on a que ce nombre de est  $\\binom{2n}{n}$\n",
    "\n",
    "De plus, le nombre total de chemins possibles avec 2n pas est $2^{2n} $ (2 possibilités pour chaque choix)\n",
    "\n",
    "De cette façon, la probabilité souhaitée est donc égale à $\\dfrac{\\binom{2n}{n}}{2^{2n}}$"
   ]
  },
  {
   "cell_type": "markdown",
   "metadata": {},
   "source": [
    "### T6\n",
    "\n",
    "En réinterprétant les chemins de l’exercice précédent, calculer la probabilité que la sauterelle revienne à l’origine pour la première fois en $2n$ étapes."
   ]
  },
  {
   "cell_type": "markdown",
   "metadata": {},
   "source": [
    "#### Solution \n",
    "\n",
    "Si la première marche est en haut, la dernière marche doit être à droite.\n",
    "\n",
    "Sinon, il se serait trouvé en $(n, n-1)$ avant le dernier pas et il aurait franchi la diagonale à un instant antérieur.\n",
    "\n",
    "De cette façon, on veut partir de $(1,0)$ et arriver à $(n-1,n)$ en pouvant toucher la diagonale du carré qui est défini par ces deux points, mais qui ne le traverse pas.\n",
    "\n",
    "Et cela, nous l'avons déjà calculé dans un exercice précédent qui est $ \\dfrac{1}{n} \\times \\dbinom{2n-2}{n-1} $\n",
    "\n",
    "Comme le cas du premier pas à droite est analogue, on a que le nombre total est $ \\dfrac{2}{n} \\times \\dbinom{2n-2}{n-1} $\n",
    "\n",
    "De cette façon, la probabilité recherchée est $ \\dfrac{ \\dfrac{2}{n} \\times \\dbinom{2n-2}{n-1} }{2^{2n}}$"
   ]
  },
  {
   "cell_type": "markdown",
   "metadata": {},
   "source": [
    "### T7\n",
    "\n",
    "Modélisons la marche aléatoire de la sauterelle avec des variables aléatoires. Soient $(X_{n})$ des variables aléatoires indépendantes de même loi avec $ P(X_{n})=P(X_{n}=-1)=\\dfrac{1}{2} $\n",
    "\n",
    "Notons $ S_{0} = 0 $ et $ S_{n} = S_{0} + \\sum_{k=1}^{n} X_{k} $ la position de la sauterelle à la $n$-ième étape. Expliquer pourquoi la probabilité $P \\bigl(  \\forall i \\leq n + 1, \\sum_{k=1}^{n} X_{k} \\neq 0 \\bigl) $ ne dépend pas de $n$."
   ]
  },
  {
   "cell_type": "markdown",
   "metadata": {},
   "source": [
    "#### Solution\n",
    "\n",
    "Nous avons que $P \\bigl(  \\forall i \\geq n + 1, \\sum_{k=n+1}^{i} X_{k} \\neq 0 \\bigl) =  P \\bigl(  \\forall i \\geq n + 1, \\sum_{k=1}^{i-n} X_{k+n} \\neq 0 \\bigl) $\n",
    "\n",
    "Comme tous les $X_{n}$ sont indépendants, ont la même loi, des pas infinis auront lieu, on a que les premiers pas n'influencent pas les suivants. De cette façon, on a que observer $X_{1}, X_{2},$ ... est la même chose que observer $X_{k+1}, X_{k+2},$ ...  e la probabilité montré ne dépend pas de $n$.\n",
    "\n"
   ]
  },
  {
   "cell_type": "markdown",
   "metadata": {},
   "source": [
    "### T8 \n",
    "Déterminer un équivalent de $ P_{n} = P(S_{2n} = 0) $ lorsque $n$ tend vers $ + \\infty$ et étudier la nature de la série $ \\sum_{n=0}^{\\infty} P_{n} $."
   ]
  },
  {
   "cell_type": "markdown",
   "metadata": {},
   "source": [
    "#### Solution\n",
    "\n",
    "Par le **T5**, nous avons que $ P_{n} = P(S_{2n}=0) = \\dfrac{\\dbinom{2n}{n}}{2^{2n}} = \\dfrac{ \\dfrac{(2n)!}{(n!)^{2}}  }{2^{2n}} $\n",
    "\n",
    "Par Formule de Stirling, quand $n$ tend vers $ + \\infty $ nous avons que :\n",
    "\n",
    "$ P_{n} \\sim \\dfrac{ {\\sqrt{4 \\pi n} \\times \\biggl( \\dfrac{2n}{e} \\biggl) ^{2n}} }{      \\biggl(   {\\sqrt{2 \\pi n} \\times \\biggl( \\dfrac{n}{e} \\biggl) ^{n} \\biggl)^{2}  }  } \\sim \\dfrac{1}{\\sqrt{ \\pi n}} $\n",
    "\n",
    "\n",
    "Comme la série $  \\sum_{n=1}^{\\infty} \\dfrac{1}{\\sqrt{n}}  $ diverge, nous avons que la série $ \\sum_{n=0}^{\\infty} P_{n} $  diverge également.\n",
    "\n"
   ]
  },
  {
   "cell_type": "markdown",
   "metadata": {},
   "source": [
    "### T9\n",
    "Montrer que la probabilité pour que la sauterelle ne passe qu’un nombre fini de fois par l’origine est donnée par la somme \n",
    "\n",
    "$ \\sum_{n=0}^{+\\infty} P \\bigl( S_{2n}=0 $  et  $ \\bigl( \\forall i \\geq 2n+1,  \\sum_{k=2n+1}^{i}X_{k} \\neq 0 $  $  \\bigl) \\bigl)$"
   ]
  },
  {
   "cell_type": "markdown",
   "metadata": {},
   "source": [
    "#### Solution \n",
    "\n",
    "Soit $A$ le événement dans lequel la sauterelle ne passe qu’un nombre fini de fois par l’origine.\n",
    "\n",
    "Soit $B_{n}$ les événements dans lesquels la sauterelle passe en dernier par l'origine à l'étape 2n.\n",
    "\n",
    "Nous avons que $ A = \\bigcup_{n=0}^{+\\infty} B_{n} $ et $ B_{i} \\cap B_{j} = \t\\emptyset $ for tout $i$ et $j$ distincts\n",
    "\n",
    "De cette façon, nous avons que\n",
    "\n",
    "$ P(A) = \\sum_{n=0}^{+\\infty} P(B_{n}) = \\sum_{n=0}^{+\\infty} P \\bigl( S_{2n}=0$  et  $ \\bigl( \\forall i \\geq 2n+1,  \\sum_{k=2n+1}^{i}X_{k} \\neq 0 $  $  \\bigl) \\bigl)$ \n",
    "\n"
   ]
  },
  {
   "cell_type": "markdown",
   "metadata": {},
   "source": [
    "### T10 \n",
    "Calculer pour tout $n \\in \\mathbb{N}$\n",
    "\n",
    "$$P \\bigl(  \\bigl( \\forall i \\geq 2n+1,  \\sum_{k=2n+1}^{i}X_{k} \\neq 0   \\bigl) \\bigl)$$ \n",
    "\n",
    "et en déduire que la sauterelle retourne presque sûrement une infinité de fois à l’origine."
   ]
  },
  {
   "cell_type": "markdown",
   "metadata": {},
   "source": [
    "#### Solution\n",
    "\n",
    "Par le **T7**, nous avons $P \\bigl( S_{2n}=0$  et  $ \\bigl( \\forall i \\geq 2n+1,  \\sum_{k=2n+1}^{i}X_{k} \\neq 0 $  $  \\bigl) \\bigl) $ne dépend pas de $n$.\n",
    "\n",
    "Comme c'est une probabilité, c'est un réel appartenant à $[0,1]$. Soit $p$ ce nombre.\n",
    "\n",
    "Nous allons continuer à développer la somme de la question précédente.\n",
    "\n",
    "$ P(A) = \\sum_{n=0}^{+\\infty} P(B_{n}) = \\sum_{n=0}^{+\\infty} P \\bigl( S_{2n}=0$  et  $ \\bigl( \\forall i \\geq 2n+1,  \\sum_{k=2n+1}^{i}X_{k} \\neq 0 $  $  \\bigl) \\bigl)$ \n",
    "\n",
    "Pour l'indépendance des événements, \n",
    "\n",
    "$ P(A) = \\sum_{n=0}^{+\\infty} P \\bigl( S_{2n}=0)  \\times P \\bigl( \\forall i \\geq 2n+1,  \\sum_{k=2n+1}^{i}X_{k} \\neq 0 $  $  \\bigl) \\bigl)$ \n",
    "\n",
    "$= \\sum_{n=0}^{+\\infty} P \\bigl( S_{2n}=0)  \\times p $ \n",
    "\n",
    "Donc, \n",
    "\n",
    "$ P(A) = \\sum_{n=0}^{+\\infty} P \\bigl( S_{2n}=0)  \\times p $\n",
    "\n",
    "Commo nous savons que $ \\sum_{n=0}^{+\\infty} P \\bigl( S_{2n}=0) $ diverge et $ P(A) \\in [0,1] $, il faut que $p$ soit zéro.\n",
    "\n",
    "De cette façon, \n",
    "\n",
    "$P \\bigl( \\forall i \\geq 2n+1,  \\sum_{k=2n+1}^{i}X_{k} \\neq 0 $  $  \\bigl) = 0 $ et $P(A) = 0$\n",
    "\n",
    "Soit $D$ le complémentaire de $A$, c'est-à-dire les événements qui passent un nombre infini de fois par l'origine.\n",
    "\n",
    "Nous avons que $P(D) = 1 - P(A) = 1 $\n",
    "\n",
    "De cette façon, nous avons que la sauterelle retourne presque sûrement une infinité de fois à l’origine."
   ]
  },
  {
   "cell_type": "markdown",
   "metadata": {},
   "source": [
    "### T11\n",
    "\n",
    "Que penser de la somme \n",
    "\n",
    "$$ \\sum_{n\\geq1} \\dfrac{1}{2^{2n-1}}  \\dfrac{1}{2n-1}  \\dbinom{2n-1}{n-1} $$\n",
    "\n"
   ]
  },
  {
   "cell_type": "markdown",
   "metadata": {},
   "source": [
    "#### Solution\n",
    "\n",
    "Je vais continuer à utiliser la notation utilisée dans les exercices précédents.\n",
    "\n",
    "Soit $ c_{n} = \\dfrac{1}{2^{2n-1}}  \\dfrac{1}{2n-1}  \\dbinom{2n-1}{n-1}$ \n",
    "\n",
    "Tout d'abord, \n",
    "\n",
    "$ c_{n} = \\dfrac{1}{2^{2n-1}}  \\dfrac{1}{2n-1}  \\dbinom{2n-1}{n} = \\dfrac{1}{2^{2n-1}}  \\dfrac{1}{2n-1}  \\dbinom{2n-1}{n} = \\dfrac{ \\dfrac{2}{n} \\dbinom{2n-2}{n-1} } {2^{2n}} $\n",
    "\n",
    "Par **T6**, $c_{n}$ est la probabilité que la sauterelle revienne à l’origine pour la première fois en  $2n$  étapes.\n",
    "\n",
    "\n",
    "Soient $C_{n}$ les les événements que la sauterelle revienne à l’origine pour la première fois en  $2n$  étapes, $C$ les événements que la sauterelle revienne à l’origine et $c = P(C)$.\n",
    "\n",
    "Nous avons que $ C = \\bigcup_{n=0}^{n=+\\infty} C_{n} $ et $ C_{i} \\cap C_{j} = \t\\emptyset $ for tout $i$ et $j$ distincts.\n",
    "\n",
    "Donc, \n",
    "\n",
    "$ P(C) = \\sum_{n=1}^{+\\infty} P(C_{n}) = \\sum_{n=1}^{+\\infty} P(C_{n}) = \\sum_{n=1}^{+\\infty} c_{n} = \\sum_{n=1}^{+\\infty} \\dfrac{1}{2^{2n-1}}  \\dfrac{1}{2n-1}  \\dbinom{2n-1}{n-1} $ \n",
    "\n",
    "De cette façon,\n",
    "\n",
    "$ P(C) = \\sum_{n=1}^{+\\infty} \\dfrac{1}{2^{2n-1}}  \\dfrac{1}{2n-1}  \\dbinom{2n-1}{n-1} $\n",
    "\n",
    "\n",
    "Par le **T10**, nous avons que $P(A) = 0$, où $A$ sont les événements qui passent par l'origine un nombre fini de fois.\n",
    "\n",
    "Soit $D$ le complémentaire de $A$, c'est-à-dire les événements qui passent un nombre infini de fois par l'origine.\n",
    "\n",
    "Nous avons que $P(D) = 1 - P(A) = 1 $\n",
    "\n",
    "Par ailleurs, nous avons que $ D \\subset C $ e donc $ P(D) \\leq P(C) $\n",
    "\n",
    "Comme $P(D) \\in [0,1]$ et $P(D) = 1$, on a que $P(C) = 1$\n",
    "\n",
    "De cette façon, \n",
    "\n",
    "$ \\sum_{n=1}^{+\\infty} \\dfrac{1}{2^{2n-1}}  \\dfrac{1}{2n-1}  \\dbinom{2n-1}{n-1} = 1 $"
   ]
  },
  {
   "cell_type": "markdown",
   "metadata": {},
   "source": [
    "### T12\n",
    "\n",
    "Les variables $X_{n}$ et $Y_{n}$ sont-elles indépendantes? On pose $ U_{n} = X_{n}+ Y_{n} $ et $ V_{n} = X_{n} − Y_{n}$. Les variables $U_{n}$ et $V_{n}$ sont-elles indépendantes?\n",
    "\n"
   ]
  },
  {
   "cell_type": "markdown",
   "metadata": {},
   "source": [
    "#### Solution\n",
    "\n",
    "Non, les variables $X_{n}$ et $Y_{n}$ ne sont pas indépendantes. \n",
    "\n",
    "Nous avons que $P(X_{1} = (-1,0)$  et $Y_{1} = (0,-1)) = P (D_{1} = (-1,-1)) =  0$\n",
    "\n",
    "De plus, $P(X_{1} = (-1,0) \\times P( Y_{1} = (0,-1)) = \\dfrac{1}{4}\\times\\dfrac{1}{4} = \\dfrac{1}{16} $\n",
    "\n",
    "Donc, $ P(X_{1} = (-1,0)$  et $Y_{1} = (0,-1))  \\neq $P(X_{1} = (-1,0) \\times P( Y_{1} = (0,-1)) $\n",
    "\n",
    "De cette façon, on peut concluire que $X_{n}$ et $Y_{n}$ ne sont pas indépendantes.\n",
    "\n",
    "\n",
    "Par contre, les variables $U_{n}$ et $V_{n}$ sont indépendantes.\n",
    "\n",
    "\n",
    "$Cov(U_{n}, V_{n}) = \\mathbb{E}(U_{n} V_{n}) - \\mathbb{E}(U_{n}) \\mathbb{E}(V_{n})$ \n",
    "\n",
    "$ =\\mathbb{E}((X_{n}+Y_{n})((X_{n}-Y_{n})) - \\mathbb{E}((X_{n}+Y_{n})) \\mathbb{E}((X_{n}-Y_{n})) $\n",
    "\n",
    "\n",
    "$= \\mathbb{E}((X_{n}^{2}-Y_{n}^{2})) - \\mathbb{E}((X_{n}+Y_{n})) \\mathbb{E}((X_{n}-Y_{n}))$\n",
    "\n",
    "$= ( \\mathbb{E}(X_{n}^{2}) - \\mathbb{E}(Y_{n}^{2})) - (\\mathbb{E}(X_{n})+\\mathbb{E}(Y_{n})) (\\mathbb{E}(X_{n}) -\\mathbb{E}(Y_{n}))$\n",
    "\n",
    "$= ( \\mathbb{E}(X_{n}^{2}) - \\mathbb{E}(Y_{n}^{2})) - ( \\mathbb{E}(X_{n})^{2} - \\mathbb{E}(Y_{n})^{2})$\n",
    "\n",
    "Mais nous savons que $\\mathbb{E}(X_{n}^{2}) = \\mathbb{E}(Y_{n}^{2}) = \\dfrac{1}{2} $ et $\\mathbb{E}(X_{n}) = \\mathbb{E}(Y_{n}) = 0$\n",
    "\n",
    "De cette façon, $Cov(U_{n}, V_{n}) = 0$ et donc $U_{n}$ et $V_{n}$ sont indépendantes"
   ]
  },
  {
   "cell_type": "markdown",
   "metadata": {},
   "source": [
    "### T13\n",
    "\n",
    "Notons $S_{0} = (0, 0)$ et $S_{n} = S_{0} + \\sum_{k=1}^{n} D_{k} \\in \\mathbb{Z}^{2}  $ la position de la sauterelle à l’instant $n$. Montrer que\n",
    "\n",
    "$ \\mathbb{E} ( || S_{n} ||_{2} ) \\leq \\sqrt{n} $\n",
    "\n",
    "où $ ||.|| $ dénote la norme euclidienne.\n",
    "\n"
   ]
  },
  {
   "cell_type": "markdown",
   "metadata": {},
   "source": [
    "#### Solution \n",
    "\n",
    "Comme la fonction $ f: \\mathbb{R_{+}} \\rightarrow \\mathbb{R_{+}}, f(x) = \\sqrt{x} $ est concave, nous pouvons utiliser l'inégalité de Jensen. \n",
    "\n",
    "$ \\mathbb{E} ( || S_{n} ||_{2} ) = \\mathbb{E} \\bigl( \\sqrt {A_{n}^2 + B_{n}^2} \\bigl) \\leq \\sqrt{ \\mathbb{E} \\bigl(A_{n}^2 + B_{n}^2 \\bigl)} = \\sqrt{ \\mathbb{E} \\bigl(A_{n}^2 \\bigl) + \\mathbb{E} \\bigl(B_{n}^2 \\bigl)} $\n",
    "\n",
    "\n",
    "Soient les variables aléatoires $ (F_{n})_{n \\in \\mathbb{N}}, (G_{n})_{n \\in \\mathbb{N}} $ telles que $ A_{n} = \\sum_{k=1}^{n}{F_{k}} $ et $ A_{n} = \\sum_{k=1}^{n}{G_{k}} $\n",
    "\n",
    "Nous allons que: \n",
    "\n",
    "$ \\bullet $ $F_{n}$ et $G_{k}$ ont la même loi\n",
    "\n",
    "$ \\bullet $ $ (F_{n})_{n \\in \\mathbb{N}} $ sont indépendants indépendant deux à deux\n",
    "\n",
    "$ \\bullet $ $ (G_{n})_{n \\in \\mathbb{N}} $ sont indépendants indépendant deux à deux\n",
    "\n",
    "$ \\bullet $ $\\mathbb{E} \\bigl( F_{j} \\bigl) = \\mathbb{E} \\bigl( G_{n} \\bigl) = 0$ \n",
    "\n",
    "$ \\bullet $ $\\mathbb{E} \\bigl( F_{j} \\bigl)^{2} = \\mathbb{E} \\bigl( G_{n} \\bigl)^{2} = \\dfrac{1}{2} $ \n",
    "\n",
    "Donc,\n",
    "\n",
    "\n",
    "$ \\mathbb{E} \\bigl( A_{n}^2 \\bigl) = \\mathbb{E}\\bigl( \\bigl( \\sum_{k=1}^{n}{F_{k}} \\bigl) ^{2}\\bigl) = \\mathbb{E} \\bigl( \\sum_{k=1}^{n}{F_{k}^{2}}  + \\sum_{i \\neq j }^{i,j \\leq n}{F_{i}F_{j}} \\bigl) $\n",
    "\n",
    "$ = \\mathbb{E} \\bigl( \\sum_{k=1}^{n}{F_{k}^{2}} \\bigl) + \\mathbb{E} \\bigl( \\sum_{i \\neq j }^{i,j \\leq n}{F_{i}F_{j}} \\bigl) $\n",
    "\n",
    "$ = \\sum_{k=1}^{n}{\\mathbb{E} \\bigl( F_{k}^{2}} \\bigl) +  \\sum_{i \\neq j }^{i,j \\leq n}{\\mathbb{E} \\bigl( F_{i}F_{j}} \\bigl) $\n",
    "\n",
    "Comme $ F_{i} $ et $ F_{j} $ sont indépendants, nous avons que  $ \\mathbb{E} \\bigl( F_{i}F_{j} \\bigl) = \\mathbb{E} \\bigl( F_{i} \\bigl) \\mathbb{E} \\bigl( F_{j} \\bigl) = 0 $ \n",
    "\n",
    "De plus, nous avons que $ \\mathbb{E} \\bigl( F_{k} \\bigl)^{2} = \\frac{1}{2} $ et donc $ \\mathbb{E} \\bigl( A_{n}^2 \\bigl) = \\frac{n}{2} $. \n",
    "\n",
    "D'une manière similaire, $\\mathbb{E} \\bigl( B_{n}^2 \\bigl) = \\frac{n}{2} $. \n",
    "\n",
    "Nous avions que $ \\mathbb{E} ( || S_{n} ||_{2} ) \\leq \\sqrt{ \\mathbb{E} \\bigl(A_{n}^2 \\bigl) + \\mathbb{E} \\bigl(B_{n}^2 \\bigl)} = \\sqrt{n} $\n",
    "\n",
    "De cette façon, $ \\mathbb{E} ( || S_{n} ||_{2} ) \\leq \\sqrt{n} $\n",
    "\n",
    "\n",
    "\n"
   ]
  },
  {
   "cell_type": "code",
   "execution_count": null,
   "metadata": {},
   "outputs": [],
   "source": []
  },
  {
   "cell_type": "code",
   "execution_count": null,
   "metadata": {},
   "outputs": [],
   "source": []
  }
 ],
 "metadata": {
  "kernelspec": {
   "display_name": "Python 3 (ipykernel)",
   "language": "python",
   "name": "python3"
  },
  "language_info": {
   "codemirror_mode": {
    "name": "ipython",
    "version": 3
   },
   "file_extension": ".py",
   "mimetype": "text/x-python",
   "name": "python",
   "nbconvert_exporter": "python",
   "pygments_lexer": "ipython3",
   "version": "3.9.7"
  }
 },
 "nbformat": 4,
 "nbformat_minor": 4
}
