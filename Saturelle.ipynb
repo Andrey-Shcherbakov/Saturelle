{
 "cells": [
  {
   "cell_type": "markdown",
   "metadata": {},
   "source": [
    "# Projet 13\n",
    "# Une histoire de sauterelle"
   ]
  },
  {
   "cell_type": "markdown",
   "metadata": {},
   "source": [
    "## 1 Questions préliminaires"
   ]
  },
  {
   "cell_type": "markdown",
   "metadata": {},
   "source": [
    "### S1. \n",
    "Écrire un programme qui prend en entrée un couple (p, q) avec p ≤ q et qui renvoie un tableau\n",
    "numpy de taille p+q qui code un chemin de (0, 0) à (p, q) uniforme parmi tous les chemins possibles. On\n",
    "pourra d’abord coder une fonction qui code (par convention) Nord=1 et Est=0 dans le tableau numpy.\n",
    "Indication: on pourra utiliser la méthode np.random.permutation pour générer une permutation\n",
    "aléatoire uniforme."
   ]
  },
  {
   "cell_type": "code",
   "execution_count": null,
   "metadata": {},
   "outputs": [],
   "source": []
  },
  {
   "cell_type": "markdown",
   "metadata": {},
   "source": [
    "### S2.\n",
    "Vérifier la validité du code précédent en écrivant un code Python qui affiche 5 chemins aléatoire\n",
    "de (0,0) à (p, q). On affichera un graphique pour (p = 10, q = 10), un autre pour (p = 100, q = 150) et un\n",
    "dernier pour (p = 1000, q = 1000). Que constatez-vous, pouvez-vous l’expliquer (informellement) ?"
   ]
  },
  {
   "cell_type": "code",
   "execution_count": null,
   "metadata": {},
   "outputs": [],
   "source": []
  },
  {
   "cell_type": "markdown",
   "metadata": {},
   "source": [
    "### S3.\n",
    "Implémenter une fonction qui prend en entrée un couple (p, q) avec p ≤ q et qui renvoie un\n",
    "chemin de (0,0) à (p, q) qui ne traverse pas la première bissectrice en utilisant la méthode du rejet\n",
    "(qui consiste à générer des chemins avec le code S1 et à conserver le premier qui ne traverse pas la\n",
    "première bissectrice). Justifier rapidement que cette algorithme de rejet renvoie bien un chemin qui suit\n",
    "la mesure uniforme sur les chemins qui ne traversent pas la première bissectrice."
   ]
  },
  {
   "cell_type": "code",
   "execution_count": null,
   "metadata": {},
   "outputs": [],
   "source": []
  },
  {
   "cell_type": "markdown",
   "metadata": {},
   "source": [
    "### S4.\n",
    "Reprendre la question S2 avec des chemins qui ne traversent pas la première bissectrice"
   ]
  },
  {
   "cell_type": "code",
   "execution_count": null,
   "metadata": {},
   "outputs": [],
   "source": []
  },
  {
   "cell_type": "markdown",
   "metadata": {},
   "source": [
    "### S5.\n",
    "Notons R le nombre de rejets réalisés lors de la génération d’un chemin qui ne traverse pas la\n",
    "première bissectrice selon l’algorithme implémenté en S3. D’après la question T4, quelle est la loi de\n",
    "R ? Vérifier numériquement ce résultat en générant un grand nombre de tels chemin et en affichant\n",
    "l’histogramme de la loi empirique de R que l’on superposera avec la loi théorique. On affichera les\n",
    "résultats pour (p = 10, q = 10) puis pour (p = 20, q = 40)."
   ]
  },
  {
   "cell_type": "code",
   "execution_count": null,
   "metadata": {},
   "outputs": [],
   "source": []
  }
 ],
 "metadata": {
  "kernelspec": {
   "display_name": "Python 3",
   "language": "python",
   "name": "python3"
  },
  "language_info": {
   "codemirror_mode": {
    "name": "ipython",
    "version": 3
   },
   "file_extension": ".py",
   "mimetype": "text/x-python",
   "name": "python",
   "nbconvert_exporter": "python",
   "pygments_lexer": "ipython3",
   "version": "3.8.10"
  }
 },
 "nbformat": 4,
 "nbformat_minor": 4
}
